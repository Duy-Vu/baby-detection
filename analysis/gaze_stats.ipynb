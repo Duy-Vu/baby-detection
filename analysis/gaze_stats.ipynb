{
 "cells": [
  {
   "cell_type": "code",
   "execution_count": 1,
   "metadata": {},
   "outputs": [],
   "source": [
    "import os\n",
    "import numpy as np\n",
    "import pandas as pd\n",
    "import matplotlib.pyplot as plt"
   ]
  },
  {
   "cell_type": "code",
   "execution_count": 37,
   "metadata": {},
   "outputs": [],
   "source": [
    "list_dir = [\n",
    " \"08-04-2022_08-23-26\",\n",
    " \"07-04-2022_23-36-57\",\n",
    " '06-04-2022_12-37-08',\n",
    " \"08-04-2022_10-21-07\",\n",
    " \"07-04-2022_20-43-58\",\n",
    " \n",
    "]\n",
    "\n",
    "model_list = [\n",
    "    \"R50-FPN_3x\",\n",
    "    \"R101-FPN_3x\",\n",
    "    \"X101-FPN_3x\",\n",
    "    \"regnetx_4gf_dds_FPN_400\",\n",
    "    \"R101-FPN_400\",\n",
    "]"
   ]
  },
  {
   "cell_type": "code",
   "execution_count": 40,
   "metadata": {},
   "outputs": [
    {
     "name": "stdout",
     "output_type": "stream",
     "text": [
      "0\n",
      "R50-FPN_3x\n",
      "Fastest model: \"COCO-InstanceSegmentation/mask_rcnn_R_50_FPN_3x.yaml\" fastest 0.043 AP, 37.2 s\n",
      "(run again wwith seedd)\n",
      "1:14:26 + 26:42 \n",
      "\n",
      "Total frames having baby 5704, out of 7648 frames, i.e 74.58% of total frames.\n",
      "Looking at baby (in_segmentation): 2160, i.e 28.24% of total frames.\n",
      "3544, Not looking at the baby 46.34%\n",
      "Total frames having no baby 1944, out of 7648 frames, i.e 25.42% of total frames.\n",
      "100.0\n",
      "\n",
      "1\n",
      "R101-FPN_3x\n",
      "Most accurate and fast: \"COCO-InstanceSegmentation/mask_rcnn_R_101_FPN_3x.yaml\" - 38.6 AP, 0.056 s\n",
      "\n",
      "1:26:05 (11:51) + 30:16 (4:15) = \n",
      "\n",
      " \n",
      "\n",
      "Total frames having baby 6062, out of 7648 frames, i.e 79.26% of total frames.\n",
      "Looking at baby (in_segmentation): 2184, i.e 28.56% of total frames.\n",
      "3878, Not looking at the baby 50.7%\n",
      "Total frames having no baby 1586, out of 7648 frames, i.e 20.74% of total frames.\n",
      "100.0\n",
      "\n",
      "2\n",
      "X101-FPN_3x\n",
      "Most accurate: \"COCO-InstanceSegmentation/mask_rcnn_X_101_32x8d_FPN_3x.yaml\": 39.5 AP, 0.103 s\n",
      "\n",
      "1:44:17 (11:51) + 36:05 (4:15) = 2:20:22\n",
      "0.3s/img\n",
      " \n",
      "\n",
      "Total frames having baby 5555, out of 7648 frames, i.e 72.63% of total frames.\n",
      "Looking at baby (in_segmentation): 2087, i.e 27.29% of total frames.\n",
      "3468, Not looking at the baby 45.34%\n",
      "Total frames having no baby 2093, out of 7648 frames, i.e 27.37% of total frames.\n",
      "100.0\n",
      "\n",
      "3\n",
      "regnetx_4gf_dds_FPN_400\n",
      "Accurate and fast: new_baselines/mask_rcnn_regnetx_4gf_dds_FPN_400ep_LSJ.py  -  43.5 AP, 0.071 s\n",
      "\n",
      "1:38:17 (11:51) + 35:32 (4:15) = 2:13:49\n",
      "0.3s/img\n",
      "\n",
      " \n",
      "\n",
      "Total frames having baby 6156, out of 7648 frames, i.e 80.49% of total frames.\n",
      "Looking at baby (in_segmentation): 2033, i.e 26.58% of total frames.\n",
      "4123, Not looking at the baby 53.91%\n",
      "Total frames having no baby 1492, out of 7648 frames, i.e 19.51% of total frames.\n",
      "100.0\n",
      "\n",
      "4\n",
      "R101-FPN_400\n",
      "Most accurate: new_baselines/mask_rcnn_R_101_FPN_400ep_LSJ.py   43.7 AP, 0.073 s\n",
      "\n",
      "# The segmentation has more false negative compare to non jitger version\n",
      "2:03:28 (11:51) + 45:55 (4:15) = \n",
      "\n",
      " \n",
      "\n",
      "Total frames having baby 6232, out of 7648 frames, i.e 81.49% of total frames.\n",
      "Looking at baby (in_segmentation): 2218, i.e 29.0% of total frames.\n",
      "4014, Not looking at the baby 52.49%\n",
      "Total frames having no baby 1416, out of 7648 frames, i.e 18.51% of total frames.\n",
      "100.00000000000001\n",
      "\n"
     ]
    }
   ],
   "source": [
    "no_baby = []\n",
    "not_at_baby_seg = []\n",
    "at_baby_seg = []\n",
    "\n",
    "for id, (result_dir, model_name) in enumerate(zip(list_dir, model_list)):\n",
    "    output_dir = os.path.join(\"../GazeMoCap/150210/150210_Eye/output\", result_dir)\n",
    "    note_dir = os.path.join(output_dir, \"note.txt\")\n",
    "    print(id)\n",
    "    with open(note_dir, mode='r') as note_file:\n",
    "        print(model_name)\n",
    "        all_note = note_file.read()\n",
    "        print(all_note, \"\\n\")\n",
    "    \n",
    "    df_dir = os.path.join(output_dir, \"gaze_positions_on_baby_part_2.csv\")\n",
    "    df = pd.read_csv(df_dir)\n",
    "\n",
    "    unique_frames_count = df[\"world_index\"].nunique()\n",
    "\n",
    "    detected_baby_df = df[df[\"is_baby\"] == True]\n",
    "    unique_detected_baby_frames = detected_baby_df[\"world_index\"].nunique()\n",
    "    \n",
    "    yes_baby_pct = round(unique_detected_baby_frames/unique_frames_count*100, 2)\n",
    "    print(f\"Total frames having baby {unique_detected_baby_frames}, out of {unique_frames_count} frames, i.e {yes_baby_pct}% of total frames.\")\n",
    "\n",
    "    gaze_in_seg_df = detected_baby_df[detected_baby_df[\"in_segmentation\"] == True]\n",
    "    unique_frames_with_gaze_in_seg = gaze_in_seg_df[\"world_index\"].nunique()\n",
    "    at_baby_seg_pct = round(unique_frames_with_gaze_in_seg/unique_frames_count*100, 2)\n",
    "    print(f\"Looking at baby (in_segmentation): {unique_frames_with_gaze_in_seg}, i.e {at_baby_seg_pct}% of total frames.\")\n",
    "    at_baby_seg.append(at_baby_seg_pct)\n",
    "\n",
    "    not_at_baby_seg_pct = round(yes_baby_pct - at_baby_seg_pct, 2) # round((unique_detected_baby_frames - unique_frames_with_gaze_in_seg)/unique_frames_count*100, 2)\n",
    "\n",
    "    print(f\"{unique_detected_baby_frames - unique_frames_with_gaze_in_seg}, Not looking at the baby {not_at_baby_seg_pct}%\")\n",
    "    not_at_baby_seg.append(not_at_baby_seg_pct)\n",
    "\n",
    "    not_detected_baby_df = df[df[\"is_baby\"] == False]\n",
    "    unique_not_detected_baby_frames = not_detected_baby_df[\"world_index\"].nunique()\n",
    "    no_baby_pct = round(100 - yes_baby_pct, 2) # round(unique_not_detected_baby_frames/unique_frames_count*100, 2)\n",
    "    print(f\"Total frames having no baby {unique_not_detected_baby_frames}, out of {unique_frames_count} frames, i.e {no_baby_pct}% of total frames.\")\n",
    "    no_baby.append(no_baby_pct)\n",
    "\n",
    "    print(at_baby_seg_pct + not_at_baby_seg_pct + no_baby_pct)\n",
    "    print()"
   ]
  },
  {
   "cell_type": "code",
   "execution_count": 41,
   "metadata": {},
   "outputs": [
    {
     "data": {
      "image/png": "[encoded data removed]",
      "text/plain": [
       "<Figure size 660x660 with 1 Axes>"
      ]
     },
     "metadata": {
      "needs_background": "light"
     },
     "output_type": "display_data"
    }
   ],
   "source": [
    "def plot_comparison_bw_model(no_baby_list, not_at_baby_seg_list, at_baby_seg_list):\n",
    "    plt.figure(figsize=(5.5, 5.5), dpi=120, tight_layout=True)\n",
    "    for spine in plt.gca().spines.values():\n",
    "        spine.set_visible(False)\n",
    "\n",
    "    plt.tick_params(top=False, bottom=False, left=False, right=False)\n",
    "\n",
    "    plt.bar(model_list, no_baby_list, color='y', label=\"No baby\")\n",
    "    plt.bar(model_list, not_at_baby_seg_list, bottom=no_baby, color='r', label=\"Not at baby\")\n",
    "    plt.bar(model_list, at_baby_seg_list, bottom=np.array(no_baby_list) + np.array(not_at_baby_seg_list), color='g', label=\"At baby\")\n",
    "    plt.xlabel(\"Models\", fontsize=\"x-large\", labelpad=-20)\n",
    "    plt.ylabel(\"Percentage of total frames\", labelpad=-5)\n",
    "    plt.xticks(rotation=-40, ha=\"left\", rotation_mode='anchor', fontsize=\"x-small\")\n",
    "    plt.yticks([0,20,40,60,80,100], [\"0\",\"20\",\"40\",\"60\",\"80\",\"100%\"])\n",
    "\n",
    "    #fig.autofmt_xdate(rotation=-45, ha=\"left\")\n",
    "    #get handles and labels\n",
    "    handles, labels = plt.gca().get_legend_handles_labels()\n",
    "\n",
    "    #specify order of items in legend\n",
    "    order = [2,1,0]\n",
    "\n",
    "    #add legend to plot\n",
    "    plt.legend(\n",
    "        [handles[idx] for idx in order], [labels[idx] for idx in order], \n",
    "        fontsize=\"x-small\", \n",
    "        frameon=False, \n",
    "        bbox_to_anchor=(1.25, 0.5), \n",
    "    )\n",
    "\n",
    "    plt.show()\n",
    "\n",
    "plot_comparison_bw_model(no_baby, not_at_baby_seg, at_baby_seg)"
   ]
  },
  {
   "cell_type": "markdown",
   "metadata": {},
   "source": [
    "# Load data"
   ]
  },
  {
   "cell_type": "code",
   "execution_count": 5,
   "metadata": {},
   "outputs": [],
   "source": [
    "for result_dir in list_dir:\n",
    "    output_dir = os.path.join(\"../GazeMoCap/150210/150210_Eye/output\", result_dir)\n",
    "    df_dir = os.path.join(output_dir, \"gaze_positions_on_baby_part_1.csv\")\n",
    "    df1 = pd.read_csv(df_dir)\n",
    "    df1"
   ]
  },
  {
   "cell_type": "code",
   "execution_count": 6,
   "metadata": {},
   "outputs": [
    {
     "data": {
      "text/html": [
       "<div>\n",
       "<style scoped>\n",
       "    .dataframe tbody tr th:only-of-type {\n",
       "        vertical-align: middle;\n",
       "    }\n",
       "\n",
       "    .dataframe tbody tr th {\n",
       "        vertical-align: top;\n",
       "    }\n",
       "\n",
       "    .dataframe thead th {\n",
       "        text-align: right;\n",
       "    }\n",
       "</style>\n",
       "<table border=\"1\" class=\"dataframe\">\n",
       "  <thead>\n",
       "    <tr style=\"text-align: right;\">\n",
       "      <th></th>\n",
       "      <th>world_index</th>\n",
       "      <th>confidence</th>\n",
       "      <th>norm_pos_x</th>\n",
       "      <th>norm_pos_y</th>\n",
       "      <th>world_pos</th>\n",
       "      <th>is_baby</th>\n",
       "      <th>in_segmentation</th>\n",
       "      <th>in_bounding_box</th>\n",
       "    </tr>\n",
       "  </thead>\n",
       "  <tbody>\n",
       "    <tr>\n",
       "      <th>0</th>\n",
       "      <td>26550.0</td>\n",
       "      <td>1.0</td>\n",
       "      <td>0.680628</td>\n",
       "      <td>0.257281</td>\n",
       "      <td>(740, 802)</td>\n",
       "      <td>1.0</td>\n",
       "      <td>0.0</td>\n",
       "      <td>0.0</td>\n",
       "    </tr>\n",
       "    <tr>\n",
       "      <th>1</th>\n",
       "      <td>26550.0</td>\n",
       "      <td>1.0</td>\n",
       "      <td>0.686083</td>\n",
       "      <td>0.258348</td>\n",
       "      <td>(746, 800)</td>\n",
       "      <td>1.0</td>\n",
       "      <td>0.0</td>\n",
       "      <td>0.0</td>\n",
       "    </tr>\n",
       "    <tr>\n",
       "      <th>2</th>\n",
       "      <td>26550.0</td>\n",
       "      <td>1.0</td>\n",
       "      <td>0.695582</td>\n",
       "      <td>0.265489</td>\n",
       "      <td>(756, 793)</td>\n",
       "      <td>1.0</td>\n",
       "      <td>0.0</td>\n",
       "      <td>0.0</td>\n",
       "    </tr>\n",
       "    <tr>\n",
       "      <th>3</th>\n",
       "      <td>26551.0</td>\n",
       "      <td>1.0</td>\n",
       "      <td>0.694503</td>\n",
       "      <td>0.262089</td>\n",
       "      <td>(755, 796)</td>\n",
       "      <td>1.0</td>\n",
       "      <td>0.0</td>\n",
       "      <td>0.0</td>\n",
       "    </tr>\n",
       "    <tr>\n",
       "      <th>4</th>\n",
       "      <td>26551.0</td>\n",
       "      <td>1.0</td>\n",
       "      <td>0.695568</td>\n",
       "      <td>0.259214</td>\n",
       "      <td>(756, 800)</td>\n",
       "      <td>1.0</td>\n",
       "      <td>0.0</td>\n",
       "      <td>0.0</td>\n",
       "    </tr>\n",
       "    <tr>\n",
       "      <th>...</th>\n",
       "      <td>...</td>\n",
       "      <td>...</td>\n",
       "      <td>...</td>\n",
       "      <td>...</td>\n",
       "      <td>...</td>\n",
       "      <td>...</td>\n",
       "      <td>...</td>\n",
       "      <td>...</td>\n",
       "    </tr>\n",
       "    <tr>\n",
       "      <th>40990</th>\n",
       "      <td>43708.0</td>\n",
       "      <td>1.0</td>\n",
       "      <td>0.707277</td>\n",
       "      <td>0.933167</td>\n",
       "      <td>(769, 72)</td>\n",
       "      <td>0.0</td>\n",
       "      <td>NaN</td>\n",
       "      <td>NaN</td>\n",
       "    </tr>\n",
       "    <tr>\n",
       "      <th>40991</th>\n",
       "      <td>43708.0</td>\n",
       "      <td>1.0</td>\n",
       "      <td>0.706104</td>\n",
       "      <td>0.917385</td>\n",
       "      <td>(768, 89)</td>\n",
       "      <td>0.0</td>\n",
       "      <td>NaN</td>\n",
       "      <td>NaN</td>\n",
       "    </tr>\n",
       "    <tr>\n",
       "      <th>40992</th>\n",
       "      <td>43709.0</td>\n",
       "      <td>1.0</td>\n",
       "      <td>0.687348</td>\n",
       "      <td>0.896396</td>\n",
       "      <td>(747, 111)</td>\n",
       "      <td>0.0</td>\n",
       "      <td>NaN</td>\n",
       "      <td>NaN</td>\n",
       "    </tr>\n",
       "    <tr>\n",
       "      <th>40993</th>\n",
       "      <td>43709.0</td>\n",
       "      <td>1.0</td>\n",
       "      <td>0.686438</td>\n",
       "      <td>0.923811</td>\n",
       "      <td>(746, 82)</td>\n",
       "      <td>0.0</td>\n",
       "      <td>NaN</td>\n",
       "      <td>NaN</td>\n",
       "    </tr>\n",
       "    <tr>\n",
       "      <th>40994</th>\n",
       "      <td>43709.0</td>\n",
       "      <td>1.0</td>\n",
       "      <td>0.683794</td>\n",
       "      <td>0.903897</td>\n",
       "      <td>(743, 103)</td>\n",
       "      <td>0.0</td>\n",
       "      <td>NaN</td>\n",
       "      <td>NaN</td>\n",
       "    </tr>\n",
       "  </tbody>\n",
       "</table>\n",
       "<p>40995 rows × 8 columns</p>\n",
       "</div>"
      ],
      "text/plain": [
       "       world_index  confidence  norm_pos_x  norm_pos_y   world_pos  is_baby  \\\n",
       "0          26550.0         1.0    0.680628    0.257281  (740, 802)      1.0   \n",
       "1          26550.0         1.0    0.686083    0.258348  (746, 800)      1.0   \n",
       "2          26550.0         1.0    0.695582    0.265489  (756, 793)      1.0   \n",
       "3          26551.0         1.0    0.694503    0.262089  (755, 796)      1.0   \n",
       "4          26551.0         1.0    0.695568    0.259214  (756, 800)      1.0   \n",
       "...            ...         ...         ...         ...         ...      ...   \n",
       "40990      43708.0         1.0    0.707277    0.933167   (769, 72)      0.0   \n",
       "40991      43708.0         1.0    0.706104    0.917385   (768, 89)      0.0   \n",
       "40992      43709.0         1.0    0.687348    0.896396  (747, 111)      0.0   \n",
       "40993      43709.0         1.0    0.686438    0.923811   (746, 82)      0.0   \n",
       "40994      43709.0         1.0    0.683794    0.903897  (743, 103)      0.0   \n",
       "\n",
       "       in_segmentation  in_bounding_box  \n",
       "0                  0.0              0.0  \n",
       "1                  0.0              0.0  \n",
       "2                  0.0              0.0  \n",
       "3                  0.0              0.0  \n",
       "4                  0.0              0.0  \n",
       "...                ...              ...  \n",
       "40990              NaN              NaN  \n",
       "40991              NaN              NaN  \n",
       "40992              NaN              NaN  \n",
       "40993              NaN              NaN  \n",
       "40994              NaN              NaN  \n",
       "\n",
       "[40995 rows x 8 columns]"
      ]
     },
     "execution_count": 6,
     "metadata": {},
     "output_type": "execute_result"
    }
   ],
   "source": [
    "output_dir = \"../GazeMoCap/100209/100209_eye/output/27-03-2022_18-13-30\"\n",
    "df_dir = os.path.join(output_dir, \"gaze_positions_on_baby_part_2.csv\")\n",
    "df2 = pd.read_csv(df_dir)\n",
    "df2"
   ]
  },
  {
   "cell_type": "code",
   "execution_count": 7,
   "metadata": {},
   "outputs": [
    {
     "data": {
      "text/plain": [
       "True"
      ]
     },
     "execution_count": 7,
     "metadata": {},
     "output_type": "execute_result"
    }
   ],
   "source": [
    "(df2[\"confidence\"] == 1).all()"
   ]
  },
  {
   "cell_type": "code",
   "execution_count": 8,
   "metadata": {},
   "outputs": [
    {
     "data": {
      "text/plain": [
       "True"
      ]
     },
     "execution_count": 8,
     "metadata": {},
     "output_type": "execute_result"
    }
   ],
   "source": [
    "(df1[\"confidence\"] == 1).all()"
   ]
  },
  {
   "cell_type": "code",
   "execution_count": 9,
   "metadata": {},
   "outputs": [
    {
     "data": {
      "text/plain": [
       "True"
      ]
     },
     "execution_count": 9,
     "metadata": {},
     "output_type": "execute_result"
    }
   ],
   "source": [
    "df1[\"confidence\"].sum() == len(df1)"
   ]
  },
  {
   "cell_type": "code",
   "execution_count": 10,
   "metadata": {},
   "outputs": [
    {
     "name": "stdout",
     "output_type": "stream",
     "text": [
      "Total frames having baby 16970, i.e 79.61% of total frames.\n",
      "Looking at baby (in_segmentation): 5272, i.e 31.07% of frames having baby.\n"
     ]
    }
   ],
   "source": [
    "detected_baby_df = df1[df1[\"is_baby\"] == True]\n",
    "unique_detected_baby_frames = detected_baby_df[\"world_index\"].nunique()\n",
    "unique_baby_frames = df1[\"world_index\"].nunique()\n",
    "print(f\"Total frames having baby {unique_detected_baby_frames}, i.e {unique_detected_baby_frames/unique_baby_frames*100:.2f}% of total frames.\")\n",
    "\n",
    "gaze_in_seg_df = detected_baby_df[detected_baby_df[\"in_segmentation\"] == True]\n",
    "unique_frames_with_gaze_in_seg = gaze_in_seg_df[\"world_index\"].nunique()\n",
    "print(f\"Looking at baby (in_segmentation): {unique_frames_with_gaze_in_seg}, i.e {unique_frames_with_gaze_in_seg/unique_detected_baby_frames*100:.2f}% of frames having baby.\")"
   ]
  },
  {
   "cell_type": "code",
   "execution_count": 11,
   "metadata": {},
   "outputs": [
    {
     "data": {
      "text/plain": [
       "16970"
      ]
     },
     "execution_count": 11,
     "metadata": {},
     "output_type": "execute_result"
    }
   ],
   "source": [
    "df = df1.drop_duplicates(\"world_index\")\n",
    "no_baby_count = (df[\"is_baby\"] == True).sum()\n",
    "no_baby_count"
   ]
  },
  {
   "cell_type": "markdown",
   "metadata": {},
   "source": [
    "# Visualization"
   ]
  },
  {
   "cell_type": "code",
   "execution_count": 12,
   "metadata": {},
   "outputs": [
    {
     "ename": "SyntaxError",
     "evalue": "unexpected EOF while parsing (Temp/ipykernel_16620/2556876434.py, line 15)",
     "output_type": "error",
     "traceback": [
      "\u001b[1;36m  File \u001b[1;32m\"C:\\Users\\duynew\\AppData\\Local\\Temp/ipykernel_16620/2556876434.py\"\u001b[1;36m, line \u001b[1;32m15\u001b[0m\n\u001b[1;33m    gaze_in_seg_df[\"in_segmentation\"],\u001b[0m\n\u001b[1;37m                                      ^\u001b[0m\n\u001b[1;31mSyntaxError\u001b[0m\u001b[1;31m:\u001b[0m unexpected EOF while parsing\n"
     ]
    }
   ],
   "source": [
    "# Not helpful\n",
    "df = df1.drop_duplicates(\"world_index\")\n",
    "yes_baby_count = df[df[\"is_baby\"] == True]\n",
    "no_baby_count = df[df[\"is_baby\"] == False].sum()\n",
    "gaze_in_seg_df = gaze_in_seg_df.drop_duplicates(subset=[\"world_index\"])\n",
    "\n",
    "plt.figure(figsize=(10, 3), dpi=120)\n",
    "plt.scatter(yes_baby[\"world_index\"], yes_baby[\"is_baby\"], marker=\".\", label=\"yes baby\")\n",
    "plt.scatter(no_baby[\"world_index\"], no_baby[\"is_baby\"], marker=\".\", label=\"no baby\")\n",
    "\n",
    "\n",
    "\n",
    "plt.bar(\n",
    "    gaze_in_seg_df[\"world_index\"],\n",
    "    gaze_in_seg_df[\"in_segmentation\"],\n"
   ]
  },
  {
   "cell_type": "code",
   "execution_count": null,
   "metadata": {},
   "outputs": [
    {
     "data": {
      "image/png": "[encoded data removed]",
      "text/plain": [
       "<Figure size 1200x360 with 1 Axes>"
      ]
     },
     "metadata": {
      "needs_background": "light"
     },
     "output_type": "display_data"
    }
   ],
   "source": [
    "# Not helpful\n",
    "df = df1.drop_duplicates(\"world_index\")\n",
    "yes_baby = df[df[\"is_baby\"] == True]\n",
    "no_baby = df[df[\"is_baby\"] == False]\n",
    "gaze_in_seg_df = gaze_in_seg_df.drop_duplicates(subset=[\"world_index\"])\n",
    "\n",
    "plt.figure(figsize=(10, 3), dpi=120)\n",
    "plt.scatter(yes_baby[\"world_index\"], yes_baby[\"is_baby\"], marker=\".\", label=\"yes baby\")\n",
    "plt.scatter(no_baby[\"world_index\"], no_baby[\"is_baby\"], marker=\".\", label=\"no baby\")\n",
    "\n",
    "plt.scatter(\n",
    "    gaze_in_seg_df[\"world_index\"],\n",
    "    gaze_in_seg_df[\"in_segmentation\"],\n",
    "    c=\"g\",\n",
    "    marker=3,\n",
    "    alpha=0.5,\n",
    "    label=\"gaze segmentation\",\n",
    ")\n",
    "plt.yticks([0, 1], labels=[\"Not looking at baby\", \"Looking at baby\"])\n",
    "plt.legend(loc=\"best\")\n",
    "plt.grid()\n",
    "plt.tight_layout()\n",
    "plt.show()"
   ]
  },
  {
   "cell_type": "code",
   "execution_count": null,
   "metadata": {},
   "outputs": [],
   "source": []
  }
 ],
 "metadata": {
  "interpreter": {
   "hash": "1092ff0bc7cc8a1ffd239cc296da5a6a683e07ab4797efabfae8559181ab102e"
  },
  "kernelspec": {
   "display_name": "Python 3.8.12 ('baby')",
   "language": "python",
   "name": "python3"
  },
  "language_info": {
   "codemirror_mode": {
    "name": "ipython",
    "version": 3
   },
   "file_extension": ".py",
   "mimetype": "text/x-python",
   "name": "python",
   "nbconvert_exporter": "python",
   "pygments_lexer": "ipython3",
   "version": "3.8.5"
  },
  "orig_nbformat": 4
 },
 "nbformat": 4,
 "nbformat_minor": 2
}

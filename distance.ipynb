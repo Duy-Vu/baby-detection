{
 "cells": [
  {
   "cell_type": "code",
   "execution_count": 2,
   "metadata": {},
   "outputs": [],
   "source": [
    "import os\n",
    "import numpy as np\n",
    "import pandas as pd\n",
    "import matplotlib.pyplot as plt"
   ]
  },
  {
   "cell_type": "markdown",
   "metadata": {},
   "source": [
    "# Load data"
   ]
  },
  {
   "cell_type": "code",
   "execution_count": 3,
   "metadata": {},
   "outputs": [],
   "source": [
    "def load_data_from_path(data_name):\n",
    "    \"\"\"\n",
    "    Get dataframe with proper column name\n",
    "    :param raw_df: data_path\n",
    "    :return raw_df: dataframe with correct format of column name\n",
    "    \"\"\"\n",
    "    meta_path = data_name + \".meta\"\n",
    "\n",
    "    with open(meta_path) as meta_file:\n",
    "        meta = meta_file.read().lower()\n",
    "        begin_frame_start_index, begin_frame_end_index = meta.find(\"start\"), meta.find(\",\")\n",
    "        if begin_frame_start_index < begin_frame_end_index:\n",
    "            begin_frame = int(meta[begin_frame_start_index: begin_frame_end_index].split(\" \")[-1])\n",
    "            begin_frame  *= 5\n",
    "\n",
    "        end_frame_start_index, end_frame_end_index = meta.find(\"end\"), meta.find(\",\", begin_frame_end_index+1)\n",
    "        if end_frame_start_index < end_frame_end_index:\n",
    "            end_frame = int(meta[end_frame_start_index: end_frame_end_index].split(\" \")[-1])\n",
    "            end_frame *= 5\n",
    "    \n",
    "    raw_df = pd.read_csv(data_name + \".csv\", header=[1,2,3,4,5])\n",
    "    \n",
    "    full_col_name = [\"Frame\", \"Time\"] + \\\n",
    "    ['_'.join([marker_type.replace(\" \", \"\"), marker_name, marker_attr, marker_axis])\n",
    "        for marker_type, marker_name, marker_id, marker_attr, marker_axis in raw_df.columns[2:]\n",
    "    ]\n",
    "\n",
    "    raw_df.columns = full_col_name\n",
    "    raw_df.set_index(\"Frame\", inplace=True)\n",
    "\n",
    "    return raw_df.loc[begin_frame:end_frame]"
   ]
  },
  {
   "cell_type": "code",
   "execution_count": 4,
   "metadata": {},
   "outputs": [],
   "source": [
    "parent_dir = \"GazeMoCap\"\n",
    "exp_id_1 = \"150210\"\n",
    "exp_id_2 = \"100209\""
   ]
  },
  {
   "cell_type": "markdown",
   "metadata": {},
   "source": [
    "## Free doing"
   ]
  },
  {
   "cell_type": "code",
   "execution_count": 5,
   "metadata": {},
   "outputs": [
    {
     "data": {
      "text/plain": [
       "-2685"
      ]
     },
     "execution_count": 5,
     "metadata": {},
     "output_type": "execute_result"
    }
   ],
   "source": [
    "free_data_name_1 = os.path.join(parent_dir, exp_id_1, f\"{exp_id_1}_1\")\n",
    "free_data_name_2 = os.path.join(parent_dir, exp_id_2, f\"{exp_id_2}_1\")\n",
    "\n",
    "raw_df_free1 = load_data_from_path(free_data_name_1)\n",
    "raw_df_free2 = load_data_from_path(free_data_name_2)\n",
    "\n",
    "raw_df_free1.shape[0] - raw_df_free2.shape[0]"
   ]
  },
  {
   "cell_type": "markdown",
   "metadata": {},
   "source": [
    "## Doing some task"
   ]
  },
  {
   "cell_type": "code",
   "execution_count": 6,
   "metadata": {},
   "outputs": [
    {
     "data": {
      "text/plain": [
       "-31814"
      ]
     },
     "execution_count": 6,
     "metadata": {},
     "output_type": "execute_result"
    }
   ],
   "source": [
    "task_data_name_1 = os.path.join(parent_dir, exp_id_1, f\"{exp_id_1}_2\")\n",
    "task_data_name_2 = os.path.join(parent_dir, exp_id_2, f\"{exp_id_2}_2\")\n",
    "\n",
    "raw_df_task1 = load_data_from_path(task_data_name_1)\n",
    "raw_df_task2 = load_data_from_path(task_data_name_2)\n",
    "\n",
    "raw_df_task1.shape[0] - raw_df_task2.shape[0]"
   ]
  },
  {
   "cell_type": "markdown",
   "metadata": {},
   "source": [
    "# Clean data"
   ]
  },
  {
   "cell_type": "markdown",
   "metadata": {},
   "source": [
    "## Check if information of mother and infant head is missing at any frame"
   ]
  },
  {
   "cell_type": "code",
   "execution_count": 7,
   "metadata": {},
   "outputs": [],
   "source": [
    "head_pos_col_name = ['RigidBody_MotherHead_Position_X', 'RigidBody_MotherHead_Position_Y', 'RigidBody_MotherHead_Position_Z', \n",
    "                     'RigidBody_BabyHead_Position_X', 'RigidBody_BabyHead_Position_Y', 'RigidBody_BabyHead_Position_Z']\n",
    "\n",
    "head_rot_col_name = ['RigidBody_MotherHead_Rotation_X', 'RigidBody_MotherHead_Rotation_Y', 'RigidBody_MotherHead_Rotation_Z', 'RigidBody_MotherHead_Rotation_W',\n",
    "                     'RigidBody_BabyHead_Rotation_X', 'RigidBody_BabyHead_Rotation_Y', 'RigidBody_BabyHead_Rotation_Z', 'RigidBody_BabyHead_Rotation_W']"
   ]
  },
  {
   "cell_type": "code",
   "execution_count": 8,
   "metadata": {},
   "outputs": [
    {
     "data": {
      "text/plain": [
       "(RigidBody_MotherHead_Position_X    False\n",
       " RigidBody_MotherHead_Position_Y    False\n",
       " RigidBody_MotherHead_Position_Z    False\n",
       " RigidBody_BabyHead_Position_X      False\n",
       " RigidBody_BabyHead_Position_Y      False\n",
       " RigidBody_BabyHead_Position_Z      False\n",
       " dtype: bool,\n",
       " RigidBody_MotherHead_Position_X    False\n",
       " RigidBody_MotherHead_Position_Y    False\n",
       " RigidBody_MotherHead_Position_Z    False\n",
       " RigidBody_BabyHead_Position_X      False\n",
       " RigidBody_BabyHead_Position_Y      False\n",
       " RigidBody_BabyHead_Position_Z      False\n",
       " dtype: bool)"
      ]
     },
     "execution_count": 8,
     "metadata": {},
     "output_type": "execute_result"
    }
   ],
   "source": [
    "raw_df_free1.isna().any()[head_pos_col_name], raw_df_free2.isna().any()[head_pos_col_name]"
   ]
  },
  {
   "cell_type": "code",
   "execution_count": 9,
   "metadata": {},
   "outputs": [
    {
     "data": {
      "text/plain": [
       "(RigidBody_MotherHead_Position_X    False\n",
       " RigidBody_MotherHead_Position_Y    False\n",
       " RigidBody_MotherHead_Position_Z    False\n",
       " RigidBody_BabyHead_Position_X      False\n",
       " RigidBody_BabyHead_Position_Y      False\n",
       " RigidBody_BabyHead_Position_Z      False\n",
       " dtype: bool,\n",
       " RigidBody_MotherHead_Position_X    False\n",
       " RigidBody_MotherHead_Position_Y    False\n",
       " RigidBody_MotherHead_Position_Z    False\n",
       " RigidBody_BabyHead_Position_X      False\n",
       " RigidBody_BabyHead_Position_Y      False\n",
       " RigidBody_BabyHead_Position_Z      False\n",
       " dtype: bool)"
      ]
     },
     "execution_count": 9,
     "metadata": {},
     "output_type": "execute_result"
    }
   ],
   "source": [
    "raw_df_task1.isna().any()[head_pos_col_name], raw_df_task2.isna().any()[head_pos_col_name]"
   ]
  },
  {
   "cell_type": "markdown",
   "metadata": {},
   "source": [
    "### Rotation information may not be neccesary since the goal is calculating distance between mother and infant"
   ]
  },
  {
   "cell_type": "code",
   "execution_count": 10,
   "metadata": {},
   "outputs": [
    {
     "data": {
      "text/plain": [
       "(RigidBody_MotherHead_Rotation_X    False\n",
       " RigidBody_MotherHead_Rotation_Y    False\n",
       " RigidBody_MotherHead_Rotation_Z    False\n",
       " RigidBody_MotherHead_Rotation_W    False\n",
       " RigidBody_BabyHead_Rotation_X      False\n",
       " RigidBody_BabyHead_Rotation_Y      False\n",
       " RigidBody_BabyHead_Rotation_Z      False\n",
       " RigidBody_BabyHead_Rotation_W      False\n",
       " dtype: bool,\n",
       " RigidBody_MotherHead_Rotation_X    False\n",
       " RigidBody_MotherHead_Rotation_Y    False\n",
       " RigidBody_MotherHead_Rotation_Z    False\n",
       " RigidBody_MotherHead_Rotation_W    False\n",
       " RigidBody_BabyHead_Rotation_X      False\n",
       " RigidBody_BabyHead_Rotation_Y      False\n",
       " RigidBody_BabyHead_Rotation_Z      False\n",
       " RigidBody_BabyHead_Rotation_W      False\n",
       " dtype: bool)"
      ]
     },
     "execution_count": 10,
     "metadata": {},
     "output_type": "execute_result"
    }
   ],
   "source": [
    "raw_df_free1.isna().any()[head_rot_col_name], raw_df_free2.isna().any()[head_rot_col_name]"
   ]
  },
  {
   "cell_type": "code",
   "execution_count": 11,
   "metadata": {},
   "outputs": [
    {
     "data": {
      "text/plain": [
       "(RigidBody_MotherHead_Rotation_X    False\n",
       " RigidBody_MotherHead_Rotation_Y    False\n",
       " RigidBody_MotherHead_Rotation_Z    False\n",
       " RigidBody_MotherHead_Rotation_W    False\n",
       " RigidBody_BabyHead_Rotation_X      False\n",
       " RigidBody_BabyHead_Rotation_Y      False\n",
       " RigidBody_BabyHead_Rotation_Z      False\n",
       " RigidBody_BabyHead_Rotation_W      False\n",
       " dtype: bool,\n",
       " RigidBody_MotherHead_Rotation_X    False\n",
       " RigidBody_MotherHead_Rotation_Y    False\n",
       " RigidBody_MotherHead_Rotation_Z    False\n",
       " RigidBody_MotherHead_Rotation_W    False\n",
       " RigidBody_BabyHead_Rotation_X      False\n",
       " RigidBody_BabyHead_Rotation_Y      False\n",
       " RigidBody_BabyHead_Rotation_Z      False\n",
       " RigidBody_BabyHead_Rotation_W      False\n",
       " dtype: bool)"
      ]
     },
     "execution_count": 11,
     "metadata": {},
     "output_type": "execute_result"
    }
   ],
   "source": [
    "raw_df_task1.isna().any()[head_rot_col_name], raw_df_task2.isna().any()[head_rot_col_name]"
   ]
  },
  {
   "cell_type": "markdown",
   "metadata": {},
   "source": [
    "Since we don't have any missing important data, no data cleaning is needed."
   ]
  },
  {
   "cell_type": "markdown",
   "metadata": {},
   "source": [
    "## Drop nan columns (more than 35% nan)"
   ]
  },
  {
   "cell_type": "markdown",
   "metadata": {},
   "source": [
    "## Then fill nan data"
   ]
  },
  {
   "cell_type": "code",
   "execution_count": 12,
   "metadata": {},
   "outputs": [],
   "source": [
    "# raw_df_free1.index = pd.DatetimeIndex(raw_df_free1.index)\n",
    "# raw_df_free1.head()"
   ]
  },
  {
   "cell_type": "code",
   "execution_count": 13,
   "metadata": {},
   "outputs": [
    {
     "name": "stdout",
     "output_type": "stream",
     "text": [
      "Marker_Mother:LeftLeg_Position_Z     40.446971\n",
      "Marker_Mother:LeftLeg_Position_Y     40.446971\n",
      "Marker_Mother:LeftLeg_Position_X     40.446971\n",
      "Marker_Mother:RightLeg_Position_Z    23.831907\n",
      "Marker_Mother:RightLeg_Position_Y    23.831907\n",
      "Marker_Mother:RightLeg_Position_X    23.831907\n",
      "Marker_Baby:LeftArm_Position_X       11.865289\n",
      "Marker_Baby:LeftArm_Position_Z       11.865289\n",
      "Marker_Baby:LeftArm_Position_Y       11.865289\n",
      "Marker_Baby:RightArm_Position_Z       7.090182\n",
      "dtype: float64\n",
      "\n",
      "Marker_Mother:LeftLeg_Position_Z     37.954462\n",
      "Marker_Mother:LeftLeg_Position_Y     37.954462\n",
      "Marker_Mother:LeftLeg_Position_X     37.954462\n",
      "Marker_Mother:RightLeg_Position_Z    31.910335\n",
      "Marker_Mother:RightLeg_Position_Y    31.910335\n",
      "Marker_Mother:RightLeg_Position_X    31.910335\n",
      "Marker_Baby:RightArm_Position_Z      21.483300\n",
      "Marker_Baby:RightArm_Position_Y      21.483300\n",
      "Marker_Baby:RightArm_Position_X      21.483300\n",
      "Marker_Baby:LeftArm_Position_X       13.791514\n",
      "dtype: float64\n"
     ]
    }
   ],
   "source": [
    "print(raw_df_free1.isna().sum().sort_values(ascending=False)[:10]/raw_df_free1.shape[0] * 100)\n",
    "print()\n",
    "print(raw_df_free2.isna().sum().sort_values(ascending=False)[:10]/raw_df_free2.shape[0] * 100)"
   ]
  },
  {
   "cell_type": "markdown",
   "metadata": {},
   "source": [
    "We retain columns with at least 65% of data since columns with less data might not help get accurate interpolation.\n",
    "\n",
    "Interpolation method is 'time' which works on high resolution data. In our case, the frame rate is 100 frames/second."
   ]
  },
  {
   "cell_type": "code",
   "execution_count": 14,
   "metadata": {},
   "outputs": [],
   "source": [
    "# min_non_nan_pct = 0.65\n",
    "# #df_free = raw_df_free1.dropna(axis='columns', thresh=int(min_non_nan_pct*raw_df_free1.shape[0])).interpolate(method='time', axis='index')\n",
    "# raw_df_free1 = raw_df_free1.dropna(axis='columns', thresh=int(min_non_nan_pct*raw_df_free1.shape[0])).interpolate(method='cubic', axis='index')\n",
    "\n",
    "# raw_df_free2 = raw_df_free2.dropna(axis='columns', thresh=int(min_non_nan_pct*raw_df_free2.shape[0])).interpolate(method='cubic', axis='index')"
   ]
  },
  {
   "cell_type": "markdown",
   "metadata": {},
   "source": [
    "# Calculate distance"
   ]
  },
  {
   "cell_type": "markdown",
   "metadata": {},
   "source": [
    "### When free to do anything "
   ]
  },
  {
   "cell_type": "code",
   "execution_count": null,
   "metadata": {},
   "outputs": [],
   "source": [
    "# Pair 1\n",
    "babyHeadPosition_df_free1 = raw_df_free1.loc[:, \"RigidBody_BabyHead_Position_X\": \"RigidBody_BabyHead_Position_Z\"].set_axis(['x', 'y', 'z'], axis='columns', inplace=False)\n",
    "motherHeadPosition_df_free1 = raw_df_free1.loc[:, \"RigidBody_MotherHead_Position_X\": \"RigidBody_MotherHead_Position_Z\"].set_axis(['x', 'y', 'z'], axis='columns', inplace=False)\n",
    "dis_free1 = np.linalg.norm((babyHeadPosition_df_free1 - motherHeadPosition_df_free1).to_numpy(), axis=1)\n",
    "# Pair 2\n",
    "babyHeadPosition_df_free2 = raw_df_free2.loc[:, \"RigidBody_BabyHead_Position_X\": \"RigidBody_BabyHead_Position_Z\"].set_axis(['x', 'y', 'z'], axis='columns', inplace=False)\n",
    "motherHeadPosition_df_free2 = raw_df_free2.loc[:, \"RigidBody_MotherHead_Position_X\": \"RigidBody_MotherHead_Position_Z\"].set_axis(['x', 'y', 'z'], axis='columns', inplace=False)\n",
    "dis_free2 = np.linalg.norm((babyHeadPosition_df_free2 - motherHeadPosition_df_free2).to_numpy(), axis=1)\n",
    "\n",
    "plt.figure(figsize=(25,8))\n",
    "x_axis1 = np.arange(0, len(dis_free1)/100, 0.01)/60\n",
    "plt.plot(x_axis1, dis_free1, 'r-', label=\"Pair 1\")\n",
    "plt.plot(x_axis1, np.full(len(x_axis1), np.mean(dis_free1)), 'r--', label=\"Average pair 1\")\n",
    "x_axis2 = np.arange(0, len(dis_free2)/100, 0.01)/60\n",
    "plt.plot(x_axis2, dis_free2, 'b-', label=\"Pair 2\")\n",
    "plt.plot(x_axis2, np.full(len(x_axis2), np.mean(dis_free2)), 'b:', label=\"Average pair 2\")\n",
    "\n",
    "plt.title(\"Distance between mother & infant in normal condition\")\n",
    "plt.xlabel(\"Time (minutes)\")\n",
    "plt.ylabel(\"Distance (euclidean)\")\n",
    "plt.legend()\n",
    "plt.show()"
   ]
  },
  {
   "cell_type": "code",
   "execution_count": 16,
   "metadata": {},
   "outputs": [],
   "source": [
    "# import scipy.stats as st\n",
    "\n",
    "# plt.hist(x, density=True, bins=82, label=\"Data\")\n",
    "# mn, mx = plt.xlim()\n",
    "# plt.xlim(mn, mx)\n",
    "# kde_xs = np.linspace(mn, mx, 300)\n",
    "# kde = st.gaussian_kde(x)\n",
    "# plt.plot(kde_xs, kde.pdf(kde_xs), label=\"PDF\")\n",
    "# plt.legend(loc=\"upper left\")\n",
    "# plt.ylabel(\"Probability\")\n",
    "# plt.xlabel(\"Data\")\n",
    "# plt.title(\"Histogram\");"
   ]
  },
  {
   "cell_type": "code",
   "execution_count": 96,
   "metadata": {},
   "outputs": [
    {
     "data": {
      "image/png": "[encoded data removed]",
      "text/plain": [
       "<Figure size 720x420 with 1 Axes>"
      ]
     },
     "metadata": {
      "needs_background": "light"
     },
     "output_type": "display_data"
    }
   ],
   "source": [
    "import seaborn as sns\n",
    "\n",
    "def FreedmanDiaconis_bins(x):\n",
    "    q25, q75 = np.percentile(x, [25, 75])\n",
    "    bin_width = 2 * (q75 - q25) * len(x) ** (-1/3)\n",
    "    fd_bins = round((x.max() - x.min()) / bin_width)\n",
    "    return fd_bins\n",
    "\n",
    "fig, ax = plt.subplots(figsize=(6, 3.5), dpi=120, tight_layout=True)\n",
    "plt.gca().spines[:].set_visible(False)\n",
    "plt.tick_params(top=False, bottom=False, left=False, right=False)\n",
    "\n",
    "color = \"g\"\n",
    "sns.histplot(dis_free1, ax=ax, kde=True, color=color, discrete=False, label=\"Pair 1\", alpha=0.7, line_kws={\"linewidth\":0.75})\n",
    "ax.vlines(x=np.mean(dis_free1), ymin=0, ymax=2880, colors= color, linestyles=\"dashed\", linewidth=1.2)\n",
    "ax.annotate(\"Mean of pair 1\",  xy=(np.mean(dis_free1)+0.005, 2800), fontsize=\"xx-small\", color=color)\n",
    "\n",
    "color = \"r\"\n",
    "sns.histplot(dis_free2, ax=ax, kde=True, color=color, discrete=False, label=\"Pair 2\", alpha=0.5, line_kws={\"linewidth\":0.75})\n",
    "ax.vlines(x=np.mean(dis_free2), ymin=0, ymax=2880, colors= color, linestyles=\"dashed\", linewidth=1.2)\n",
    "ax.annotate(\"Mean of pair 2\",  xy=(np.mean(dis_free2)-0.125, 2800), fontsize=\"xx-small\", color=color)\n",
    "\n",
    "plt.legend(fontsize=\"medium\", bbox_to_anchor=[0.9, 0.7], frameon=False, fancybox=False)\n",
    "ax.set_xlabel(\"Distance\")\n",
    "ax.set_ylabel(\"\")\n",
    "ax.set_yticklabels([])\n",
    "plt.show()"
   ]
  },
  {
   "cell_type": "code",
   "execution_count": 18,
   "metadata": {},
   "outputs": [
    {
     "name": "stdout",
     "output_type": "stream",
     "text": [
      "2.4029032507142336% difference\n"
     ]
    }
   ],
   "source": [
    "print(f\"{(0.596799-0.582795)/0.582795*100}% difference\")"
   ]
  },
  {
   "cell_type": "code",
   "execution_count": 19,
   "metadata": {},
   "outputs": [
    {
     "name": "stdout",
     "output_type": "stream",
     "text": [
      "Pair 1 stats:\n",
      "                   0\n",
      "count  71056.000000\n",
      "mean       0.596799\n",
      "std        0.155643\n",
      "min        0.206288\n",
      "25%        0.482410\n",
      "50%        0.615037\n",
      "75%        0.717851\n",
      "max        1.212996 \n",
      "\n",
      "Pair 2 stats:\n",
      "                   0\n",
      "count  73741.000000\n",
      "mean       0.582795\n",
      "std        0.171331\n",
      "min        0.169512\n",
      "25%        0.471489\n",
      "50%        0.579518\n",
      "75%        0.693360\n",
      "max        1.210084 \n",
      "\n",
      "Corr bw 2 pairs\n",
      " [[ 1.         -0.17157891]\n",
      " [-0.17157891  1.        ]]\n"
     ]
    }
   ],
   "source": [
    "print(\"Pair 1 stats:\\n\", pd.DataFrame(dis_free1).describe(), \"\\n\")\n",
    "print(\"Pair 2 stats:\\n\", pd.DataFrame(dis_free2).describe(), \"\\n\")\n",
    "print(\"Corr bw 2 pairs\\n\", np.corrcoef(dis_free1, dis_free2[:dis_free1.shape[0]]))"
   ]
  },
  {
   "cell_type": "code",
   "execution_count": null,
   "metadata": {},
   "outputs": [],
   "source": [
    "plt.figure(figsize=(25, 8))\n",
    "dif = dis_free1 - dis_free2[:dis_free1.shape[0]]\n",
    "x_axis = np.arange(0, len(dis_free1)/100, 0.01)/60\n",
    "\n",
    "plt.plot(x_axis, dif, 'b', label=\"Diffence\")\n",
    "plt.plot(x_axis, np.full(len(x_axis), np.mean(dif)), 'b--', label=\"Mean difference\")\n",
    "plt.title(\"Difference in distance between mother & infant in normal condition\")\n",
    "plt.xlabel(\"Time (minutes)\")\n",
    "plt.ylabel(\"Distance (euclidean)\")\n",
    "plt.legend()\n",
    "plt.show()"
   ]
  },
  {
   "cell_type": "markdown",
   "metadata": {},
   "source": [
    "Even though the distance lines of 2 pairs are completely uncorrelated, they have quite similar mean value."
   ]
  },
  {
   "cell_type": "markdown",
   "metadata": {},
   "source": [
    "### When doing some task"
   ]
  },
  {
   "cell_type": "code",
   "execution_count": null,
   "metadata": {},
   "outputs": [],
   "source": [
    "plt.figure(figsize=(25,8))\n",
    "\n",
    "# Pair 1\n",
    "babyHeadPosition_df_task1 = raw_df_task1.loc[:, \"RigidBody_BabyHead_Position_X\": \"RigidBody_BabyHead_Position_Z\"].set_axis(['x', 'y', 'z'], axis='columns', inplace=False)\n",
    "motherHeadPosition_df_task1 = raw_df_task1.loc[:, \"RigidBody_MotherHead_Position_X\": \"RigidBody_MotherHead_Position_Z\"].set_axis(['x', 'y', 'z'], axis='columns', inplace=False)\n",
    "dis_task1 = np.linalg.norm((babyHeadPosition_df_task1 - motherHeadPosition_df_task1).to_numpy(), axis=1)\n",
    "x_axis1 = np.arange(0, len(dis_task1)/100, 0.01)/60\n",
    "plt.plot(x_axis1, dis_task1, 'r-', label=\"Pair 1\")\n",
    "plt.plot(x_axis1, np.full(len(x_axis1), np.mean(dis_task1)), 'r--', label=\"Average pair 1\")\n",
    "\n",
    "# Pair 2\n",
    "babyHeadPosition_df_task2 = raw_df_task2.loc[:, \"RigidBody_BabyHead_Position_X\": \"RigidBody_BabyHead_Position_Z\"].set_axis(['x', 'y', 'z'], axis='columns', inplace=False)\n",
    "motherHeadPosition_df_task2 = raw_df_task2.loc[:, \"RigidBody_MotherHead_Position_X\": \"RigidBody_MotherHead_Position_Z\"].set_axis(['x', 'y', 'z'], axis='columns', inplace=False)\n",
    "dis_task2 = np.linalg.norm((babyHeadPosition_df_task2 - motherHeadPosition_df_task2).to_numpy(), axis=1)\n",
    "x_axis2 = np.arange(0, len(dis_task2)/100, 0.01)/60\n",
    "plt.plot(x_axis2, dis_task2, 'b-', label=\"Pair 2\")\n",
    "plt.plot(x_axis2, np.full(len(x_axis2), np.mean(dis_task2)), 'b:', label=\"Average pair 2\")\n",
    "\n",
    "plt.title(\"Distance between mother & infant when doing some tasks\")\n",
    "plt.xlabel(\"Time (minutes)\")\n",
    "plt.ylabel(\"Distance (euclidean)\")\n",
    "plt.legend()\n",
    "plt.show()"
   ]
  },
  {
   "cell_type": "code",
   "execution_count": 91,
   "metadata": {},
   "outputs": [
    {
     "data": {
      "image/png": "[encoded data removed]",
      "text/plain": [
       "<Figure size 720x420 with 1 Axes>"
      ]
     },
     "metadata": {
      "needs_background": "light"
     },
     "output_type": "display_data"
    }
   ],
   "source": [
    "fig, ax = plt.subplots(figsize=(6, 3.5), dpi=120, tight_layout=True)\n",
    "plt.gca().spines[:].set_visible(False)\n",
    "plt.tick_params(top=False, bottom=False, left=False, right=False)\n",
    "\n",
    "color = \"r\"\n",
    "sns.histplot(dis_task2, ax=ax, kde=True, color=color, discrete=False, label=\"Pair 2\", alpha=0.5, line_kws={\"linewidth\":0.75})\n",
    "ax.vlines(x=np.mean(dis_task2), ymin=0, ymax=4800, colors= color, linestyles=\"dashed\", linewidth=1.2)\n",
    "ax.annotate(\"Mean of pair 2\",  xy=(np.mean(dis_task2)-0.105, 4850),  fontsize=\"xx-small\", color=color)\n",
    "\n",
    "color = \"g\"\n",
    "sns.histplot(dis_task1, ax=ax, kde=True, color=color, discrete=False, label=\"Pair 1\", alpha=0.7, line_kws={\"linewidth\":0.75})\n",
    "ax.vlines(x=np.mean(dis_task1), ymin=0, ymax=4800, colors=color, linestyles=\"dashed\", linewidth=1.2)\n",
    "ax.annotate(\"Mean of pair 1\",  xy=(np.mean(dis_task1), 4850), fontsize=\"xx-small\", color=color)\n",
    "\n",
    "plt.legend(*map(reversed, ax.get_legend_handles_labels()), fontsize=\"medium\", bbox_to_anchor=[0.8, 0.7], frameon=False, fancybox=False)\n",
    "ax.set_xlabel(\"Distance\")\n",
    "ax.set_ylabel(\"\")\n",
    "ax.set_yticklabels([])\n",
    "plt.show()"
   ]
  },
  {
   "cell_type": "code",
   "execution_count": 23,
   "metadata": {},
   "outputs": [
    {
     "name": "stdout",
     "output_type": "stream",
     "text": [
      "6.192260630162131% difference\n"
     ]
    }
   ],
   "source": [
    "print(f\"{(0.416571 - 0.392280)/0.392280*100}% difference\")"
   ]
  },
  {
   "cell_type": "markdown",
   "metadata": {},
   "source": [
    "In the case, we can see mother-infant of pair 2 is much closer compare to pair 1."
   ]
  },
  {
   "cell_type": "code",
   "execution_count": 24,
   "metadata": {},
   "outputs": [
    {
     "name": "stdout",
     "output_type": "stream",
     "text": [
      "Pair 1 stats:\n",
      "                   0\n",
      "count  25496.000000\n",
      "mean       0.416571\n",
      "std        0.146543\n",
      "min        0.188531\n",
      "25%        0.295816\n",
      "50%        0.376524\n",
      "75%        0.505528\n",
      "max        0.830317 \n",
      "\n",
      "Pair 2 stats:\n",
      "                   0\n",
      "count  57310.000000\n",
      "mean       0.392280\n",
      "std        0.178437\n",
      "min        0.156279\n",
      "25%        0.262484\n",
      "50%        0.309852\n",
      "75%        0.508947\n",
      "max        1.125100 \n",
      "\n"
     ]
    }
   ],
   "source": [
    "print(\"Pair 1 stats:\\n\", pd.DataFrame(dis_task1).describe(), \"\\n\")\n",
    "print(\"Pair 2 stats:\\n\", pd.DataFrame(dis_task2).describe(), \"\\n\")\n",
    "#print(\"Corr bw 2 pairs\\n\", np.corrcoef(dis_task1[:dis_task2.shape[0]], dis_task2)) # may not so meaningful since the the length difference is x2"
   ]
  }
 ],
 "metadata": {
  "interpreter": {
   "hash": "3df67d7fe990b2093eb236d304130cb33dc47aac204a6cca2099454a2f94759b"
  },
  "kernelspec": {
   "display_name": "Python 3.9.7 64-bit ('detectron': conda)",
   "language": "python",
   "name": "python3"
  },
  "language_info": {
   "codemirror_mode": {
    "name": "ipython",
    "version": 3
   },
   "file_extension": ".py",
   "mimetype": "text/x-python",
   "name": "python",
   "nbconvert_exporter": "python",
   "pygments_lexer": "ipython3",
   "version": "3.8.5"
  },
  "orig_nbformat": 4
 },
 "nbformat": 4,
 "nbformat_minor": 2
}
